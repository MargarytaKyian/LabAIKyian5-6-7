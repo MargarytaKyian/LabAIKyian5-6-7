{
  "nbformat": 4,
  "nbformat_minor": 0,
  "metadata": {
    "colab": {
      "provenance": [],
      "authorship_tag": "ABX9TyNB97WRrsl7PSPAffuSvMFD",
      "include_colab_link": true
    },
    "kernelspec": {
      "name": "python3",
      "display_name": "Python 3"
    },
    "language_info": {
      "name": "python"
    }
  },
  "cells": [
    {
      "cell_type": "markdown",
      "metadata": {
        "id": "view-in-github",
        "colab_type": "text"
      },
      "source": [
        "<a href=\"https://colab.research.google.com/github/MargarytaKyian/LabAIKyian5-6-7/blob/main/LabAI7Kyian.ipynb\" target=\"_parent\"><img src=\"https://colab.research.google.com/assets/colab-badge.svg\" alt=\"Open In Colab\"/></a>"
      ]
    },
    {
      "cell_type": "code",
      "execution_count": null,
      "metadata": {
        "id": "wZyG4AvAd8S_",
        "cellView": "form"
      },
      "outputs": [],
      "source": [
        "# @title Завдання 2.6. Побудова кривих навчання\n",
        "\n",
        "# Лаб.№5-6-7 ШІ. Киян М. ІПЗ-407\n",
        "\n",
        "# Імпорт необхідних бібліотек\n",
        "import numpy as np\n",
        "import matplotlib.pyplot as plt\n",
        "from sklearn.model_selection import train_test_split\n",
        "from sklearn.linear_model import LinearRegression\n",
        "from sklearn.preprocessing import PolynomialFeatures\n",
        "from sklearn.pipeline import Pipeline\n",
        "from sklearn.metrics import mean_squared_error\n",
        "\n",
        "# Функція для побудови кривих навчання\n",
        "def plot_learning_curves(model, X, y):\n",
        "    X_train, X_val, y_train, y_val = train_test_split(X, y, test_size=0.2, random_state=42)\n",
        "    train_errors, val_errors = [], []\n",
        "\n",
        "    for m in range(1, len(X_train) + 1):\n",
        "        # Навчання моделі на підмножині даних\n",
        "        model.fit(X_train[:m], y_train[:m])\n",
        "        y_train_predict = model.predict(X_train[:m])\n",
        "        y_val_predict = model.predict(X_val)\n",
        "        # Обчислення помилки для навчальних даних\n",
        "        train_errors.append(mean_squared_error(y_train[:m], y_train_predict))\n",
        "        # Обчислення помилки для перевірочних даних\n",
        "        val_errors.append(mean_squared_error(y_val, y_val_predict))\n",
        "\n",
        "    # Побудова графіка\n",
        "    plt.plot(np.sqrt(train_errors), \"r-+\", linewidth=2, label=\"Training error\")\n",
        "    plt.plot(np.sqrt(val_errors), \"b-\", linewidth=3, label=\"Validation error\")\n",
        "    plt.xlabel(\"Training set size\")\n",
        "    plt.ylabel(\"RMSE\")\n",
        "    plt.legend()\n",
        "    plt.grid(True)\n",
        "    plt.show()\n",
        "\n",
        "# Генерація даних\n",
        "m = 100\n",
        "X = np.linspace(-3, 3, m).reshape(-1, 1)\n",
        "y = 2 * np.sin(X).ravel() + np.random.uniform(-0.5, 0.5, m)\n",
        "\n",
        "# Лінійна регресія\n",
        "print(\"\\nОтримаємо наступні графіки:\")\n",
        "linear_regressor = LinearRegression()\n",
        "print(\"\\nКриві навчання для лінійної моделі:\")\n",
        "# Побудова кривих навчання для лінійної моделі\n",
        "plot_learning_curves(linear_regressor, X, y)\n",
        "\n",
        "# Поліноміальна регресія (ступінь 10)\n",
        "polynomial_regression = Pipeline([\n",
        "    # Перетворення вхідних даних у поліноміальні ознаки (ступінь 10)\n",
        "    (\"poly_features\", PolynomialFeatures(degree=10, include_bias=False)),\n",
        "    # Лінійна регресія на поліноміальних ознаках\n",
        "    (\"lin_reg\", LinearRegression())\n",
        "])\n",
        "\n",
        "print(\"\\nКриві навчання для поліноміальної моделі (ступінь 10):\")\n",
        "# Побудова кривих навчання для поліноміальної моделі\n",
        "plot_learning_curves(polynomial_regression, X, y)\n",
        "\n",
        "# Поліноміальна регресія (ступінь 2)\n",
        "polynomial_regression_2 = Pipeline([\n",
        "    # Перетворення вхідних даних у поліноміальні ознаки (ступінь 2)\n",
        "    (\"poly_features\", PolynomialFeatures(degree=2, include_bias=False)),\n",
        "    # Лінійна регресія на поліноміальних ознаках\n",
        "    (\"lin_reg\", LinearRegression())\n",
        "])\n",
        "\n",
        "print(\"\\nКриві навчання для поліноміальної моделі (ступінь 2):\")\n",
        "# Побудова кривих навчання для поліноміальної моделі 2-го ступеня\n",
        "plot_learning_curves(polynomial_regression_2, X, y)\n",
        "\n"
      ]
    }
  ]
}